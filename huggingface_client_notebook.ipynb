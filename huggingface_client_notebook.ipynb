{
 "cells": [
  {
   "cell_type": "code",
   "execution_count": 1,
   "metadata": {},
   "outputs": [],
   "source": [
    "'''\n",
    "An example client with a example API key to a remote LLM.\n",
    "'''\n",
    "\n",
    "from remote_llm.client import ClientLLM\n",
    "from remote_llm.langchain_wrap import ClientLangchain\n",
    "\n",
    "api_key = \"482fdd5f-b59c-43de-98b9-4e19a21b4d85\"\n",
    "host = \"localhost\"\n",
    "port = 50055\n",
    "\n",
    "client = ClientLLM(api_key=api_key, host=host, port=port)\n",
    "llm = ClientLangchain(client=client)"
   ]
  },
  {
   "cell_type": "code",
   "execution_count": 2,
   "metadata": {},
   "outputs": [],
   "source": [
    "from langchain import OpenAI, ConversationChain, LLMChain, PromptTemplate\n",
    "from langchain.chains.conversation.memory import ConversationalBufferWindowMemory"
   ]
  },
  {
   "cell_type": "code",
   "execution_count": 3,
   "metadata": {},
   "outputs": [
    {
     "name": "stdout",
     "output_type": "stream",
     "text": [
      "\n",
      "\n",
      "\u001b[1m> Entering new LLMChain chain...\u001b[0m\n",
      "Prompt after formatting:\n",
      "\u001b[32;1m\u001b[1;3mAssistant is a large language model trained by Eleuther.\n",
      "\n",
      "It is a conversational assistant that can answer questions and perform tasks.\n",
      "\n",
      "\n",
      "Human: What is your name?\n",
      "Assistant:\u001b[0m\n",
      "\n",
      "\u001b[1m> Finished chain.\u001b[0m\n",
      " I like to write. It is a human-like form of speaking.\n",
      "\n",
      "\n",
      "An assistant is\n"
     ]
    }
   ],
   "source": [
    "template = \"\"\"Assistant is a large language model trained by Eleuther.\n",
    "\n",
    "It is a conversational assistant that can answer questions and perform tasks.\n",
    "\n",
    "{history}\n",
    "Human: {human_input}\n",
    "Assistant:\"\"\"\n",
    "\n",
    "prompt = PromptTemplate(\n",
    "    input_variables=[\"history\", \"human_input\"], \n",
    "    template=template\n",
    ")\n",
    "\n",
    "\n",
    "chatgpt_chain = LLMChain(\n",
    "    llm=llm, \n",
    "    prompt=prompt, \n",
    "    verbose=True, \n",
    "    memory=ConversationalBufferWindowMemory(k=2),\n",
    ")\n",
    "\n",
    "output = chatgpt_chain.predict(human_input=\"What is your name?\")\n",
    "print(output)"
   ]
  },
  {
   "cell_type": "code",
   "execution_count": null,
   "metadata": {},
   "outputs": [],
   "source": []
  }
 ],
 "metadata": {
  "kernelspec": {
   "display_name": "modal_langchain",
   "language": "python",
   "name": "python3"
  },
  "language_info": {
   "codemirror_mode": {
    "name": "ipython",
    "version": 3
   },
   "file_extension": ".py",
   "mimetype": "text/x-python",
   "name": "python",
   "nbconvert_exporter": "python",
   "pygments_lexer": "ipython3",
   "version": "3.9.6"
  },
  "orig_nbformat": 4,
  "vscode": {
   "interpreter": {
    "hash": "ee83736e395fa6044e3c5a53f0c8b061053bac435b837e383b386743ab53bdde"
   }
  }
 },
 "nbformat": 4,
 "nbformat_minor": 2
}
