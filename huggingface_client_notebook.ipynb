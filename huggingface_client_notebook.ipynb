{
 "cells": [
  {
   "cell_type": "code",
   "execution_count": 1,
   "metadata": {},
   "outputs": [],
   "source": [
    "'''\n",
    "An example client with a example API key to a remote LLM.\n",
    "'''\n",
    "\n",
    "from remote_llm.client import ClientLLM\n",
    "from remote_llm.langchain_wrap import ClientLangchain\n",
    "\n",
    "api_key = \"482fdd5f-b59c-43de-98b9-4e19a21b4d85\"\n",
    "host = \"localhost\"\n",
    "port = 50055\n",
    "\n",
    "client = ClientLLM(host=host, port=port, api_key=api_key)\n",
    "llm = ClientLangchain(client=client)"
   ]
  },
  {
   "cell_type": "code",
   "execution_count": 2,
   "metadata": {},
   "outputs": [],
   "source": [
    "from langchain import OpenAI, ConversationChain, LLMChain, PromptTemplate\n",
    "from langchain.chains.conversation.memory import ConversationalBufferWindowMemory"
   ]
  },
  {
   "cell_type": "code",
   "execution_count": 3,
   "metadata": {},
   "outputs": [
    {
     "ename": "ValidationError",
     "evalue": "1 validation error for SerpAPIWrapper\n__root__\n  Did not find serpapi_api_key, please add an environment variable `SERPAPI_API_KEY` which contains it, or pass  `serpapi_api_key` as a named parameter. (type=value_error)",
     "output_type": "error",
     "traceback": [
      "\u001b[0;31m---------------------------------------------------------------------------\u001b[0m",
      "\u001b[0;31mValidationError\u001b[0m                           Traceback (most recent call last)",
      "Cell \u001b[0;32mIn[3], line 1\u001b[0m\n\u001b[0;32m----> 1\u001b[0m tools \u001b[39m=\u001b[39m load_tools([\u001b[39m\"\u001b[39;49m\u001b[39mserpapi\u001b[39;49m\u001b[39m\"\u001b[39;49m, \u001b[39m\"\u001b[39;49m\u001b[39mllm-math\u001b[39;49m\u001b[39m\"\u001b[39;49m], llm\u001b[39m=\u001b[39;49mllm)\n",
      "File \u001b[0;32m~/.pyenv/versions/3.9.6/envs/modal_langchain/lib/python3.9/site-packages/langchain/agents/load_tools.py:231\u001b[0m, in \u001b[0;36mload_tools\u001b[0;34m(tool_names, llm, callback_manager, **kwargs)\u001b[0m\n\u001b[1;32m    229\u001b[0m _get_tool_func, extra_keys \u001b[39m=\u001b[39m _EXTRA_OPTIONAL_TOOLS[name]\n\u001b[1;32m    230\u001b[0m sub_kwargs \u001b[39m=\u001b[39m {k: kwargs[k] \u001b[39mfor\u001b[39;00m k \u001b[39min\u001b[39;00m extra_keys \u001b[39mif\u001b[39;00m k \u001b[39min\u001b[39;00m kwargs}\n\u001b[0;32m--> 231\u001b[0m tool \u001b[39m=\u001b[39m _get_tool_func(\u001b[39m*\u001b[39;49m\u001b[39m*\u001b[39;49msub_kwargs)\n\u001b[1;32m    232\u001b[0m \u001b[39mif\u001b[39;00m callback_manager \u001b[39mis\u001b[39;00m \u001b[39mnot\u001b[39;00m \u001b[39mNone\u001b[39;00m:\n\u001b[1;32m    233\u001b[0m     tool\u001b[39m.\u001b[39mcallback_manager \u001b[39m=\u001b[39m callback_manager\n",
      "File \u001b[0;32m~/.pyenv/versions/3.9.6/envs/modal_langchain/lib/python3.9/site-packages/langchain/agents/load_tools.py:150\u001b[0m, in \u001b[0;36m_get_serpapi\u001b[0;34m(**kwargs)\u001b[0m\n\u001b[1;32m    146\u001b[0m \u001b[39mdef\u001b[39;00m \u001b[39m_get_serpapi\u001b[39m(\u001b[39m*\u001b[39m\u001b[39m*\u001b[39mkwargs: Any) \u001b[39m-\u001b[39m\u001b[39m>\u001b[39m BaseTool:\n\u001b[1;32m    147\u001b[0m     \u001b[39mreturn\u001b[39;00m Tool(\n\u001b[1;32m    148\u001b[0m         name\u001b[39m=\u001b[39m\u001b[39m\"\u001b[39m\u001b[39mSearch\u001b[39m\u001b[39m\"\u001b[39m,\n\u001b[1;32m    149\u001b[0m         description\u001b[39m=\u001b[39m\u001b[39m\"\u001b[39m\u001b[39mA search engine. Useful for when you need to answer questions about current events. Input should be a search query.\u001b[39m\u001b[39m\"\u001b[39m,\n\u001b[0;32m--> 150\u001b[0m         func\u001b[39m=\u001b[39mSerpAPIWrapper(\u001b[39m*\u001b[39;49m\u001b[39m*\u001b[39;49mkwargs)\u001b[39m.\u001b[39mrun,\n\u001b[1;32m    151\u001b[0m         coroutine\u001b[39m=\u001b[39mSerpAPIWrapper(\u001b[39m*\u001b[39m\u001b[39m*\u001b[39mkwargs)\u001b[39m.\u001b[39marun,\n\u001b[1;32m    152\u001b[0m     )\n",
      "File \u001b[0;32m~/.pyenv/versions/3.9.6/envs/modal_langchain/lib/python3.9/site-packages/pydantic/main.py:342\u001b[0m, in \u001b[0;36mpydantic.main.BaseModel.__init__\u001b[0;34m()\u001b[0m\n",
      "\u001b[0;31mValidationError\u001b[0m: 1 validation error for SerpAPIWrapper\n__root__\n  Did not find serpapi_api_key, please add an environment variable `SERPAPI_API_KEY` which contains it, or pass  `serpapi_api_key` as a named parameter. (type=value_error)"
     ]
    }
   ],
   "source": [
    "template = \"\"\"Assistant is a large language model trained by OpenAI.\n",
    "\n",
    "Assistant is designed to be able to assist with a wide range of tasks, from answering simple questions to providing in-depth explanations and discussions on a wide range of topics. As a language model, Assistant is able to generate human-like text based on the input it receives, allowing it to engage in natural-sounding conversations and provide responses that are coherent and relevant to the topic at hand.\n",
    "\n",
    "Assistant is constantly learning and improving, and its capabilities are constantly evolving. It is able to process and understand large amounts of text, and can use this knowledge to provide accurate and informative responses to a wide range of questions. Additionally, Assistant is able to generate its own text based on the input it receives, allowing it to engage in discussions and provide explanations and descriptions on a wide range of topics.\n",
    "\n",
    "Overall, Assistant is a powerful tool that can help with a wide range of tasks and provide valuable insights and information on a wide range of topics. Whether you need help with a specific question or just want to have a conversation about a particular topic, Assistant is here to assist.\n",
    "\n",
    "{history}\n",
    "Human: {human_input}\n",
    "Assistant:\"\"\"\n",
    "\n",
    "prompt = PromptTemplate(\n",
    "    input_variables=[\"history\", \"human_input\"], \n",
    "    template=template\n",
    ")\n",
    "\n",
    "\n",
    "chatgpt_chain = LLMChain(\n",
    "    llm=llm, \n",
    "    prompt=prompt, \n",
    "    verbose=True, \n",
    "    memory=ConversationalBufferWindowMemory(k=2),\n",
    ")\n",
    "\n",
    "output = chatgpt_chain.predict(human_input=\"I want you to act as a Linux terminal. I will type commands and you will reply with what the terminal should show. I want you to only reply with the terminal output inside one unique code block, and nothing else. Do not write explanations. Do not type commands unless I instruct you to do so. When I need to tell you something in English I will do so by putting text inside curly brackets {like this}. My first command is pwd.\")\n",
    "print(output)"
   ]
  },
  {
   "cell_type": "code",
   "execution_count": null,
   "metadata": {},
   "outputs": [],
   "source": []
  }
 ],
 "metadata": {
  "kernelspec": {
   "display_name": "modal_langchain",
   "language": "python",
   "name": "python3"
  },
  "language_info": {
   "codemirror_mode": {
    "name": "ipython",
    "version": 3
   },
   "file_extension": ".py",
   "mimetype": "text/x-python",
   "name": "python",
   "nbconvert_exporter": "python",
   "pygments_lexer": "ipython3",
   "version": "3.9.6"
  },
  "orig_nbformat": 4,
  "vscode": {
   "interpreter": {
    "hash": "ee83736e395fa6044e3c5a53f0c8b061053bac435b837e383b386743ab53bdde"
   }
  }
 },
 "nbformat": 4,
 "nbformat_minor": 2
}
